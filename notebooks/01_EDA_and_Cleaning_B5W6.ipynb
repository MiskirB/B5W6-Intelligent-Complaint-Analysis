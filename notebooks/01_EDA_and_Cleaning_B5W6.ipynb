{
 "cells": [
  {
   "cell_type": "markdown",
   "metadata": {
    "colab_type": "text",
    "id": "view-in-github"
   },
   "source": [
    "<a href=\"https://colab.research.google.com/github/MiskirB/B5W6-Intelligent-Complaint-Analysis/blob/main/01_EDA_and_Cleaning_B5W6.ipynb\" target=\"_parent\"><img src=\"https://colab.research.google.com/assets/colab-badge.svg\" alt=\"Open In Colab\"/></a>"
   ]
  },
  {
   "cell_type": "code",
   "execution_count": null,
   "metadata": {
    "colab": {
     "base_uri": "https://localhost:8080/"
    },
    "id": "80nRDH-mGBsX",
    "outputId": "b8ba0845-e3d6-46bf-e823-d29f752fa3e4"
   },
   "outputs": [],
   "source": [
    "from google.colab import drive\n",
    "drive.mount('/content/drive')\n"
   ]
  },
  {
   "cell_type": "code",
   "execution_count": null,
   "metadata": {
    "colab": {
     "base_uri": "https://localhost:8080/",
     "height": 747
    },
    "id": "11bWmXJ-IAlG",
    "outputId": "fb86114c-369c-45e3-98e5-a338dcea9366"
   },
   "outputs": [],
   "source": [
    "import pandas as pd\n",
    "\n",
    "file_path = \"/content/drive/MyDrive/B5W6-Intelligent-Complaint-Analysis/data/complaints.csv\"\n",
    "df = pd.read_csv(file_path)\n",
    "\n",
    "print(df.shape)\n",
    "df.head()\n"
   ]
  },
  {
   "cell_type": "code",
   "execution_count": null,
   "metadata": {
    "colab": {
     "base_uri": "https://localhost:8080/",
     "height": 611
    },
    "id": "PI2eIDGSJZW3",
    "outputId": "430da33d-12c6-4231-acd2-3af5302a3363"
   },
   "outputs": [],
   "source": [
    "import matplotlib.pyplot as plt\n",
    "import seaborn as sns\n",
    "\n",
    "plt.figure(figsize=(10, 5))\n",
    "sns.countplot(y=\"Product\", data=df, order=df[\"Product\"].value_counts().index, palette='viridis')\n",
    "plt.title(\"Complaint Count by Product\")\n",
    "plt.xlabel(\"Count\")\n",
    "plt.ylabel(\"Product\")\n",
    "plt.tight_layout()\n",
    "\n",
    "# Save figure to Drive\n",
    "plot_path = \"/content/drive/MyDrive/B5W6-Intelligent-Complaint-Analysis/reports/product_distribution.png\"\n",
    "plt.savefig(plot_path)\n",
    "plt.show()\n",
    "\n",
    "print(\"✅ Saved product distribution plot to Drive.\")\n"
   ]
  },
  {
   "cell_type": "code",
   "execution_count": null,
   "metadata": {
    "colab": {
     "base_uri": "https://localhost:8080/",
     "height": 424
    },
    "id": "-VULw8ibLKcy",
    "outputId": "cb31b2e9-99c2-48c4-db2f-ad7597f8f81c"
   },
   "outputs": [],
   "source": [
    "df[\"narrative_length\"] = df[\"Consumer complaint narrative\"].astype(str).apply(lambda x: len(x.split()))\n",
    "\n",
    "plt.figure(figsize=(8, 4))\n",
    "plt.hist(df[\"narrative_length\"], bins=50, color=\"steelblue\")\n",
    "plt.title(\"Narrative Word Count Distribution\")\n",
    "plt.xlabel(\"Words\")\n",
    "plt.ylabel(\"Frequency\")\n",
    "plt.tight_layout()\n",
    "\n",
    "# Save figure to Drive\n",
    "length_plot_path = \"/content/drive/MyDrive/B5W6-Intelligent-Complaint-Analysis/reports/narrative_wordcount.png\"\n",
    "plt.savefig(length_plot_path)\n",
    "plt.show()\n",
    "\n",
    "print(\"✅ Saved narrative length plot to Drive.\")\n"
   ]
  },
  {
   "cell_type": "code",
   "execution_count": null,
   "metadata": {
    "colab": {
     "base_uri": "https://localhost:8080/",
     "height": 281
    },
    "id": "Wn6vzsH0Jhsk",
    "outputId": "e0a8fd1f-055b-499d-9ebe-93071167d9c0"
   },
   "outputs": [],
   "source": [
    "import re\n",
    "\n",
    "# Step 1: Filter to 5 key products\n",
    "relevant_products = [\n",
    "    \"Credit card\",\n",
    "    \"Personal loan\",\n",
    "    \"Buy Now, Pay Later\",\n",
    "    \"Savings account\",\n",
    "    \"Money transfer, virtual currency, or money service\"\n",
    "]\n",
    "\n",
    "df_filtered = df[df[\"Product\"].isin(relevant_products)].copy()\n",
    "df_filtered = df_filtered[df_filtered[\"Consumer complaint narrative\"].notnull()]\n",
    "\n",
    "# Step 2: Clean the narrative\n",
    "def clean_text(text):\n",
    "    text = text.lower()\n",
    "    text = re.sub(r'\\n|\\r', ' ', text)\n",
    "    text = re.sub(r'[^a-z0-9\\s]', '', text)\n",
    "    return text.strip()\n",
    "\n",
    "df_filtered[\"cleaned_narrative\"] = df_filtered[\"Consumer complaint narrative\"].apply(clean_text)\n",
    "\n",
    "print(\"✅ Filtered and cleaned complaints.\")\n",
    "df_filtered[[\"Product\", \"cleaned_narrative\"]].head()\n"
   ]
  },
  {
   "cell_type": "code",
   "execution_count": null,
   "metadata": {
    "colab": {
     "base_uri": "https://localhost:8080/"
    },
    "id": "dXNGwMEzMHKn",
    "outputId": "9abfbfef-4043-4a18-9afe-23eea99b825d"
   },
   "outputs": [],
   "source": [
    "output_path = \"/content/drive/MyDrive/B5W6-Intelligent-Complaint-Analysis/data/filtered_complaints.csv\"\n",
    "df_filtered.to_csv(output_path, index=False)\n",
    "\n",
    "print(\"✅ Cleaned dataset saved to Drive as filtered_complaints.csv\")\n"
   ]
  }
 ],
 "metadata": {
  "colab": {
   "authorship_tag": "ABX9TyOCxzKTwTm2xMvbwtExlVUC",
   "include_colab_link": true,
   "provenance": []
  },
  "kernelspec": {
   "display_name": "Python 3",
   "name": "python3"
  },
  "language_info": {
   "name": "python"
  }
 },
 "nbformat": 4,
 "nbformat_minor": 0
}
