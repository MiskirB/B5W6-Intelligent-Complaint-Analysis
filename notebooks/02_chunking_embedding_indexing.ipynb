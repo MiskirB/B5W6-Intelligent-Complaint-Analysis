{
 "cells": [
  {
   "cell_type": "markdown",
   "metadata": {
    "colab_type": "text",
    "id": "view-in-github"
   },
   "source": [
    "<a href=\"https://colab.research.google.com/github/MiskirB/B5W6-Intelligent-Complaint-Analysis/blob/main/02_chunking_embedding_indexing.ipynb\" target=\"_parent\"><img src=\"https://colab.research.google.com/assets/colab-badge.svg\" alt=\"Open In Colab\"/></a>"
   ]
  },
  {
   "cell_type": "code",
   "execution_count": null,
   "metadata": {
    "colab": {
     "base_uri": "https://localhost:8080/"
    },
    "id": "Mk146q0DNPVT",
    "outputId": "6c297ce1-774b-496d-eb57-58ca04cee258"
   },
   "outputs": [],
   "source": [
    "!pip install sentence-transformers faiss-cpu\n"
   ]
  },
  {
   "cell_type": "code",
   "execution_count": null,
   "metadata": {
    "colab": {
     "base_uri": "https://localhost:8080/"
    },
    "id": "fNlPh-qbOE5f",
    "outputId": "736e04e4-f82d-4237-c8e9-75b340d2dc49"
   },
   "outputs": [],
   "source": [
    "from google.colab import drive\n",
    "drive.mount('/content/drive')\n",
    "\n",
    "import os\n",
    "os.makedirs(\"/content/drive/MyDrive/B5W6-Intelligent-Complaint-Analysis/vector_store\", exist_ok=True)\n"
   ]
  },
  {
   "cell_type": "code",
   "execution_count": null,
   "metadata": {
    "colab": {
     "base_uri": "https://localhost:8080/",
     "height": 223
    },
    "id": "lcPg1hddObYv",
    "outputId": "b217574c-c34d-4f42-d218-3c629a690d3e"
   },
   "outputs": [],
   "source": [
    "import pandas as pd\n",
    "\n",
    "data_path = \"/content/drive/MyDrive/B5W6-Intelligent-Complaint-Analysis/data/filtered_complaints.csv\"\n",
    "df = pd.read_csv(data_path)\n",
    "\n",
    "print(df.shape)\n",
    "df[['Product', 'cleaned_narrative']].head()\n"
   ]
  },
  {
   "cell_type": "code",
   "execution_count": null,
   "metadata": {
    "colab": {
     "base_uri": "https://localhost:8080/",
     "height": 223
    },
    "id": "Rl-vxVDzOmyK",
    "outputId": "bb10a3d4-b58d-4796-e967-7ea78021cf89"
   },
   "outputs": [],
   "source": [
    "def chunk_text(text, chunk_size=300, chunk_overlap=50):\n",
    "    chunks = []\n",
    "    start = 0\n",
    "    while start < len(text):\n",
    "        end = start + chunk_size\n",
    "        chunk = text[start:end]\n",
    "        chunks.append(chunk)\n",
    "        start += chunk_size - chunk_overlap\n",
    "    return chunks\n",
    "\n",
    "# Apply chunking\n",
    "chunk_data = []\n",
    "for idx, row in df.iterrows():\n",
    "    chunks = chunk_text(row['cleaned_narrative'])\n",
    "    for c in chunks:\n",
    "        chunk_data.append({\n",
    "            \"complaint_id\": idx,\n",
    "            \"product\": row[\"Product\"],\n",
    "            \"text\": c\n",
    "        })\n",
    "\n",
    "chunk_df = pd.DataFrame(chunk_data)\n",
    "print(\"✅ Total Chunks:\", len(chunk_df))\n",
    "chunk_df.head()\n"
   ]
  },
  {
   "cell_type": "code",
   "execution_count": null,
   "metadata": {
    "colab": {
     "base_uri": "https://localhost:8080/"
    },
    "id": "chbT2CNKOzIE",
    "outputId": "c34938b7-a41b-4e9c-cc99-91cd595ea448"
   },
   "outputs": [],
   "source": [
    "!ls /content/drive/MyDrive/B5W6-Intelligent-Complaint-Analysis/vector_store/\n"
   ]
  },
  {
   "cell_type": "code",
   "execution_count": null,
   "metadata": {
    "colab": {
     "base_uri": "https://localhost:8080/",
     "height": 577,
     "referenced_widgets": [
      "3ed3d295b72c413986f125b10d77defe",
      "3806549ec624419b9f87f3e821a3e4eb",
      "b242a72bd79942f8bc46c648cea62b8d",
      "11f45eb6758c4ad8b8bba129f9b9f74e",
      "d497260b8c014f48b056d20522d816f1",
      "971015ba017944a59eb53f560be5b336",
      "153cdfe8308141b6897ffd63cbbc8b95",
      "840c8974200f4beeadd4210ea8309cda",
      "203ced002a694dea9a461317f3062b46",
      "f4e9b29d58bb4e0ea785255a57d908a4",
      "d695d95b9c2349058a1e97712f855be2",
      "81fbb4f7a70748c8bea5465f8e2f35f4",
      "e737444a5abf4e2cabea322c022f447b",
      "05b97e26d78048fda69935d67d70d105",
      "0cade4e80c0b46a1916f92083094cbf9",
      "3c00b461e38e4d0487be817f720e90be",
      "46753986f6534bc792e9f1b5e3b3b3fc",
      "9cc775b84df041659e3556184e140a2c",
      "c1716cdec8ab45e5a4196097cb0eb999",
      "a7b30cee161041b8b6a8816b10c35250",
      "dd516a39fbaf40bb8da96e3449ea9d46",
      "c8f1d741bf98463b89a824a7a925f0a8",
      "71bcf5162198405f977ac26631c5a463",
      "bfb0f6075ab54df98e8f50872483bc2a",
      "95b4fd3fc4934ba981ab00999529a636",
      "2240c1364d0a4549a33d085995d24067",
      "2e8f8db2386b4d52ae06b7b4b4ebebb3",
      "7e7dd80c474d4fd7bf56339d56d3f1f5",
      "8aaca354e2cd4d539be0c9706d770bd5",
      "a61431a9296f4da9a5bd20eed52f1f27",
      "611eb7c5c58d4bd09acfff771ea16e9a",
      "045e460fb33147f5bfd9eeb246afe32a",
      "a9cf8892bdc14f1da3c810848783844c",
      "436fc90c44854888b6ffd214319180e6",
      "ad776cf110c94c5d888afff4e7b5f389",
      "6da405ca600f4fdc89974c0ebd22a46f",
      "0bfc6f5f27d947398cd5cae1984ec178",
      "ee5f95bb11db490f8368af2b6e32efff",
      "e077c7d001104e0abce5642df2baea20",
      "81440ae404c148d3a5d1b2c9f12a41d8",
      "a33446b666424365a944bdd19c0bc8f0",
      "1c5f3c362a7b44729a296e6e12f26d29",
      "a61c57d1efaf4cc093cb04e880904149",
      "bb593fe25081465b8d2b67eaa9c98306",
      "3c14edebea284fb89fb910a8827508cf",
      "7834b44444dc4e21a1a8288789b4a4c6",
      "854fda815e3a4e2b86597fbda57185c3",
      "02202ff730f446d087499624ab4a965d",
      "9eae35fc329e4514a0d66dad0dd49bb0",
      "7d6fe79c610045e7913a9e538b738454",
      "34596cda91564bad9b947b3401e53a40",
      "5c5828b9a7ca49de8744743a899fc76d",
      "d1db6bf6ccb447699cb7ea3b3ff56fba",
      "ff7cfc4f08b64f2398c486106e7cade3",
      "977a9a1edc754f839abc0a49ee7b4976",
      "2d3d17cc87f349ecb44e904acbf42168",
      "0f94e4bcbc2149ae8cf39fcfb5542b32",
      "dc91eb5a8c08403f9050145655d33f09",
      "fbb26e6b1ef54307b036116109fbdfad",
      "2206cf1367034e81ad8b3acfdc7aaafe",
      "d5e0de18b5f040118b39164ff5fa5924",
      "dbbc86005b114bacb10c792f494ede0f",
      "5ee39dd578654ebb9fb60c90812940e7",
      "50057b71c93d469bb8e323dc118f44bd",
      "d40c8a0e18c44202b30477a25e453f70",
      "c60074d8d1644c15ae4d4f087cd19e5b",
      "7036f31790f247b89379a6294a6db25d",
      "ce7f7b28de8d406fa9ce542deb338c22",
      "235f4dc3f2d94781b6c5238717ce1961",
      "b73f0f433a8840d885a5ed0ad8f3d9b4",
      "efaeda7f419e466eaa03235bee72fc97",
      "d79b4d5ce1e54747a898eb3a4e2f48c1",
      "fb7f52f31ef94f69b932cdcb759fb4a0",
      "337587b51f964ebaa50c09be59bebbad",
      "c686c8888b0b41028fa5c97a2aa1548d",
      "1c259aedfe444974bafb6db385ebad8c",
      "8c4581e617ca442c88bded47b4abdb77",
      "f3e8225adb6e49aabd8e1bf93e3b8a9e",
      "bb876dc6206a46ec9961eb4e116eb5ab",
      "f5e4330265d542c9aa6df8b3ca68b020",
      "b07c933001714ed7b47627e5051e746a",
      "9d091a32b323431785557228b8f128d2",
      "a42343e04eb74799ada64a9604e6e2d6",
      "dfcce881adb345dda5599db3304467fc",
      "99b05372a8104ce6a28ac51808371ade",
      "28f8f7459c914a40ac3b820424df4ee0",
      "b86186f484654271b974439da4ecdc28",
      "68958430665244519f8dd95a95c0abb3",
      "1f656a6030ad449f8f7c628c6707b864",
      "f026e3376fbd4f208ed7f700205a5805",
      "f25ed86600284d4cbfbc981706b0a0be",
      "daa3d6e863224050b046684db7bf4d94",
      "f385ef007b67457993c3dcb2139b295b",
      "c288019889414761a8fabab10123a7b1",
      "377c915a881e4bc4b0c28ce2bb097722",
      "75895d494e174efba99940edf8028b95",
      "2a3be7a6902f428fabd71cb8cc924c7e",
      "af2d5007ae1b437f88e022c5e15c6cb2",
      "d79125ea72d8472a8abbca4e77e186c1",
      "ec371c243e9044e68c2443c3583bfe8c",
      "45a38ef317fe4c65807ed796387b43b3",
      "c736511dbd104b429997c743222c02c3",
      "97ff71a182a74161ae821c3721721f08",
      "3a8607728c174fdfa159432619f85389",
      "1f9ae4d09921416ba3621ee8783e4ff9",
      "e348e2cb38fa4f1ab43e41731ff5fc1f",
      "61d512075d08422c920e78a20d8e8ffd",
      "924de77f29c6403c9c66ed609c08cb66",
      "d9382cd91c244a6496f9aec7f21e4525",
      "c460542ccbc141aca81d761b8d88e16b",
      "f62a953756ca4eda9bef23bb1d366079",
      "22d2014063b6486c86bd67a28fe12dac",
      "f5bad023b58a405da6c4ed1db2ecaed7",
      "aa6643541a5d470789bd92e09d598901",
      "03e3ad5284fa4ce88b314c3c00082339",
      "2b3ba528f0a04578aa78dd1c223530b4",
      "ddd2fe50c5a9463a8781158986dbda99",
      "d9688294fd2c4dcc98dc5f3e712eb362",
      "3bf1e72d7f774c94a6d58d1fd7b481a3",
      "b1efc0edcaa74916b66eaaad1c52c369",
      "1ee6a9cb62f2465fbdd81f7bd1b8c528",
      "d5b9703dc345489ebc82847e6d43b77e",
      "0857d32149a04acdadbc03f8b3d39985",
      "93257cbb8b754308b4a332545993976c",
      "edb8241476c24109a32dd252ebe39024",
      "0a73f91384fb4357a4462e187995df27",
      "ac6bde9aed36447b9335d42b9245b5f0",
      "d6009b0f986f49e39660cc9a616e9717",
      "9996ec7d576146e893367316857b7aa1",
      "1ecd626828c742f492f66f931211040a",
      "d284549198e04f218cf66805729405ae",
      "3ab06bf1169a427d9f1c17ff8a12f023"
     ]
    },
    "id": "MbvyRlRcPiF0",
    "outputId": "3919a59e-b3ca-4de1-d914-6678938a71d7"
   },
   "outputs": [],
   "source": [
    "from sentence_transformers import SentenceTransformer\n",
    "import faiss\n",
    "import numpy as np\n",
    "import pickle\n",
    "from tqdm.auto import tqdm\n",
    "import os\n",
    "\n",
    "# 1. Prepare input texts\n",
    "texts = chunk_df['text'].tolist()\n",
    "\n",
    "# 2. Load the embedding model (GPU will be used automatically)\n",
    "model = SentenceTransformer('all-MiniLM-L6-v2')\n",
    "\n",
    "# 3. Encode with GPU (fast)\n",
    "embeddings = model.encode(\n",
    "    texts,\n",
    "    show_progress_bar=True,\n",
    "    convert_to_numpy=True,\n",
    "    batch_size=64  # you can tune this\n",
    ")\n",
    "\n",
    "# 4. Create FAISS index\n",
    "dimension = embeddings.shape[1]\n",
    "index = faiss.IndexFlatL2(dimension)\n",
    "index.add(embeddings)\n",
    "print(\"✅ FAISS index built. Total vectors:\", index.ntotal)\n",
    "\n",
    "# 5. Prepare metadata\n",
    "metadata = chunk_df.to_dict(orient='records')\n",
    "\n",
    "# 6. Save both to Google Drive\n",
    "index_path = \"/content/drive/MyDrive/B5W6-Intelligent-Complaint-Analysis/vector_store/faiss_index.index\"\n",
    "metadata_path = \"/content/drive/MyDrive/B5W6-Intelligent-Complaint-Analysis/vector_store/metadata.pkl\"\n",
    "\n",
    "os.makedirs(\"/content/drive/MyDrive/B5W6-Intelligent-Complaint-Analysis/vector_store\", exist_ok=True)\n",
    "\n",
    "faiss.write_index(index, index_path)\n",
    "print(\"✅ FAISS index saved to:\", index_path)\n",
    "\n",
    "with open(metadata_path, \"wb\") as f:\n",
    "    pickle.dump(metadata, f)\n",
    "print(\"✅ Metadata saved to:\", metadata_path)\n"
   ]
  },
  {
   "cell_type": "code",
   "execution_count": null,
   "metadata": {
    "colab": {
     "base_uri": "https://localhost:8080/"
    },
    "id": "UloHW2tAUZUl",
    "outputId": "b6b19f16-d29b-4a09-f4f1-0df508481f9e"
   },
   "outputs": [],
   "source": [
    "!ls -lh /content/drive/MyDrive/B5W6-Intelligent-Complaint-Analysis/vector_store/\n"
   ]
  }
 ],
 "metadata": {
  "accelerator": "GPU",
  "colab": {
   "authorship_tag": "ABX9TyNFG+HlkvhHs8KWLTsa/sKs",
   "gpuType": "T4",
   "include_colab_link": true,
   "provenance": []
  },
  "kernelspec": {
   "display_name": "Python 3",
   "name": "python3"
  },
  "language_info": {
   "name": "python"
  }
 },
 "nbformat": 4,
 "nbformat_minor": 0
}
